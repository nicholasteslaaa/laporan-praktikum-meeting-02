{
 "cells": [
  {
   "cell_type": "code",
   "execution_count": 2,
   "metadata": {},
   "outputs": [
    {
     "name": "stdout",
     "output_type": "stream",
     "text": [
      "1.BMI calculator\n",
      "2.berat badan calculator\n",
      "BMI anda: 22.7\n"
     ]
    }
   ],
   "source": [
    "#mencari berat badan\n",
    "\n",
    "# mengambil expected_bmi, tinggi_cm dari input pilihan ke 2\n",
    "def bb_calculator(expected_bmi, tinggi_cm):\n",
    "    tinggi_m = tinggi_cm/100 # mengubah dari cm ke meter\n",
    "    berat_badan = round(expected_bmi * tinggi_m**2) # kalkulasi\n",
    "    return berat_badan #hasil kalkulasi\n",
    "\n",
    "# mencari bmi\n",
    "\n",
    "# mengambil (berat_badan_kg, tinggi_cm) dari input pilihan 1\n",
    "def bmi_calculator(berat_badan_kg, tinggi_cm):\n",
    "    tinggi_m = tinggi_cm/100 # mengubah cm ke meter\n",
    "    bmi = berat_badan_kg/tinggi_m**2 # kalkulasi\n",
    "    return bmi # hasil kalkulasi\n",
    "\n",
    "def main():\n",
    "    print(\"1.BMI calculator\") # memberi pilihan 1\n",
    "    print(\"2.berat badan calculator\") # memberi pilihan 2\n",
    "    \n",
    "    # memberi user input agar bisa memilih\n",
    "    user_input = input(\"pilih salah 1 dari 2 pilihan di atas(1/2): \")\n",
    "    \n",
    "    if user_input == '1': #pilihan 1\n",
    "        \n",
    "        # user input untuk dimasukan ke fungsi bmi_calculator()\n",
    "        berat_badan_kg = float(input(\"masukan berat badan dalam (kg): \")) \n",
    "        tinggi_cm = float(input(\"masukkan tinggi badan (cm): \"))\n",
    "        \n",
    "        # menampilkan hasil\n",
    "        print(\"BMI anda: %.1f\" % bmi_calculator(berat_badan_kg, tinggi_cm))\n",
    "        \n",
    "    elif user_input == '2': # pilihan \n",
    "        \n",
    "        # user input untuk di masukan ke fungsi bb_calculator()\n",
    "        expected_bmi = float(input(\"masukan bmi: \"))\n",
    "        tinggi_cm = float(input(\"masukkan tinggi badan (cm): \"))\n",
    "        \n",
    "        # menampilkan hasil dari fungsi\n",
    "        print(\"berat badan anda: \",bb_calculator(expected_bmi, tinggi_cm),\"kg\")\n",
    "        \n",
    "        # user memasukan value selain 1 atau 2\n",
    "    else: print(\"pilihan tidak valid!\")\n",
    "        \n",
    "if __name__ == \"__main__\":\n",
    "    main()"
   ]
  },
  {
   "cell_type": "code",
   "execution_count": 4,
   "id": "21983a01",
   "metadata": {},
   "outputs": [
    {
     "name": "stdout",
     "output_type": "stream",
     "text": [
      "hasil:  65.0\n"
     ]
    }
   ],
   "source": [
    "def fungsi(x):\n",
    "    fx = 2*x**3 + 2*x + 15/x\n",
    "    return fx\n",
    "\n",
    "def main():\n",
    "    x = int(input(\"masukkan bilangan bulat: \"))\n",
    "    print (\"hasil: \", fungsi(x))\n",
    "\n",
    "if __name__ == \"__main__\":\n",
    "    main()"
   ]
  },
  {
   "cell_type": "code",
   "execution_count": 3,
   "id": "5059da9d",
   "metadata": {},
   "outputs": [
    {
     "name": "stdout",
     "output_type": "stream",
     "text": [
      "Pendapatan Budi selama libur musim panas sebelum melakukan pembayaran pajak: Rp. 1680000.0\n",
      "Pendapatan Budi selama libur musim panas setelah melakukan pembayaran pajak: Rp. 1444800.0 \n",
      "\n",
      "Jumlah uang yang akan Budi habiskan untuk membeli pakaian dan aksesoris: Rp. 144480.0\n",
      "Jumlah uang yang akan Budi habiskan untuk membeli alat tulis: Rp. 14448.0\n",
      "Sisa uang setelah membeli alat tulis, pakaian dan aksesoris: Rp. 1285872.0 \n",
      "\n",
      "Jumlah uang yang akan Budi sedekahkan: Rp. 321468.0\n",
      "Jumlah uang yang akan diterima anak yatim:  Rp. 96440\n",
      "Jumlah uang yang akan diterima kaum dhuafa: Rp. 225028.0\n",
      "Yang tersisa: Rp. 964404.0\n"
     ]
    }
   ],
   "source": [
    "def gaji(perjam, liburan_semester):\n",
    "    # gaji kotor\n",
    "    perhari = 24 * perjam\n",
    "    perminggu = 7 * perhari\n",
    "    gaji_kotor = perminggu * liburan_semester\n",
    "    # pajak\n",
    "    pajak = 14/100\n",
    "    # gaji bersih\n",
    "    gaji_bersih = gaji_kotor-(gaji_kotor * pajak)\n",
    "    return gaji_kotor,gaji_bersih\n",
    "\n",
    "def pakaian_alat_tulis(gaji_bersih):\n",
    "    # jumlah yang dikeluarkan untuk pakaian\n",
    "    pakaian = gaji_bersih*(10/100)\n",
    "    # jumlah yang dikeluarkan untuk alat tulis\n",
    "    altul = gaji_bersih*(1/100)\n",
    "    #sisa uang setelah membeli pakaian dan alat tulis\n",
    "    total_sisa = gaji_bersih - (pakaian+altul)\n",
    "    return pakaian,altul,total_sisa\n",
    "\n",
    "def sedekah_yatim_dhaufa(total_sisa):\n",
    "    # total sedekah\n",
    "    total_sedekah = total_sisa*(25/100)\n",
    "    # sedekah anak yatim\n",
    "    yatim = round(((total_sedekah/1000)*(30/100))*1000)\n",
    "    # sedekah dhaufa\n",
    "    dhaufa = total_sedekah - yatim\n",
    "    return total_sedekah, yatim, dhaufa\n",
    "\n",
    "def main():\n",
    "    perjam = float(input(\"gaji per jam yang anda inginkan: \")) # membuat input untuk user\n",
    "    liburan_semester = 5 # liburan semester = 5 minggu\n",
    "    gaji(perjam, liburan_semester) #memasukan input user ke fungsi gaji\n",
    "    \n",
    "    gaji_kotor, gaji_bersih = gaji(perjam, liburan_semester)\n",
    "    print(\"Pendapatan Budi selama libur musim panas sebelum melakukan pembayaran pajak: Rp.\", gaji_kotor) #soal 1\n",
    "    print(\"Pendapatan Budi selama libur musim panas setelah melakukan pembayaran pajak: Rp.\", gaji_bersih, \"\\n\") #soal 2\n",
    "\n",
    "    pakaian,altul,total_sisa = pakaian_alat_tulis(gaji_bersih)\n",
    "    print(\"Jumlah uang yang akan Budi habiskan untuk membeli pakaian dan aksesoris: Rp.\", pakaian) #soal 3\n",
    "    print(\"Jumlah uang yang akan Budi habiskan untuk membeli alat tulis: Rp.\", altul) #soal 4\n",
    "    print(\"Sisa uang setelah membeli alat tulis, pakaian dan aksesoris: Rp.\", total_sisa, \"\\n\") #sisa pertama\n",
    "\n",
    "    total_sedekah, yatim, dhaufa = sedekah_yatim_dhaufa(total_sisa)\n",
    "    print(\"Jumlah uang yang akan Budi sedekahkan: Rp.\", total_sedekah) #soal 5\n",
    "    print(\"Jumlah uang yang akan diterima anak yatim:  Rp.\", yatim)#soal 6\n",
    "    print(\"Jumlah uang yang akan diterima kaum dhuafa: Rp.\", dhaufa)#soal 7\n",
    "\n",
    "    yang_tersisa = total_sisa - total_sedekah\n",
    "    print(\"Yang tersisa: Rp.\", yang_tersisa) #sisa akhir\n",
    "    \n",
    "if __name__ == \"__main__\":\n",
    "    main()"
   ]
  }
 ],
 "metadata": {
  "kernelspec": {
   "display_name": "Python 3",
   "language": "python",
   "name": "python3"
  },
  "language_info": {
   "codemirror_mode": {
    "name": "ipython",
    "version": 3
   },
   "file_extension": ".py",
   "mimetype": "text/x-python",
   "name": "python",
   "nbconvert_exporter": "python",
   "pygments_lexer": "ipython3",
   "version": "3.12.1"
  }
 },
 "nbformat": 4,
 "nbformat_minor": 5
}
